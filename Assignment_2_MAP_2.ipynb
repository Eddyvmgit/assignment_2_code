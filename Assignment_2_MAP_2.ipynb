{
 "cells": [
  {
   "cell_type": "markdown",
   "metadata": {},
   "source": [
    "### Second Map Crime Development with Dynamic Time Selection"
   ]
  },
  {
   "cell_type": "code",
   "execution_count": null,
   "metadata": {},
   "outputs": [],
   "source": [
    "import pandas as pd\n",
    "import matplotlib.pyplot as plt\n",
    "import numpy as np\n",
    "import calplot\n",
    "import folium\n",
    "from folium.plugins import HeatMap\n",
    "import json\n",
    "import seaborn as sns\n",
    "from sklearn.cluster import KMeans\n",
    "from sklearn.preprocessing import StandardScaler\n",
    "from bokeh.io import output_file, show\n",
    "from bokeh.plotting import figure\n",
    "from bokeh.models import ColumnDataSource, FactorRange, Legend, Select\n",
    "from bokeh.transform import factor_cmap\n",
    "from bokeh.palettes import Spectral6\n",
    "from bokeh.io import output_notebook, show\n",
    "from bokeh.palettes import Category10\n",
    "from bokeh.layouts import gridplot, column"
   ]
  },
  {
   "cell_type": "code",
   "execution_count": null,
   "metadata": {
    "scrolled": true
   },
   "outputs": [],
   "source": [
    "# Load the data\n",
    "crime_data = pd.read_csv(\"police_data.csv\")\n",
    "1\n",
    "# Load the data\n",
    "2\n",
    "crime_data = pd.read_csv(\"police_data.csv\")\n",
    "1\n",
    "# Load the map data\n",
    "2\n",
    "with open(\"sfpd.geojson\") as f:\n",
    "3\n",
    "    geo_json_data = json.load(f)\n",
    "1\n",
    "# Create the Period column\n",
    "2\n",
    "crime_data['Period'] = pd.to_datetime(crime_data['Date']).dt.strftime('%m/%d/%Y')\n",
    "3\n",
    "crime_data['Period'] = pd.to_datetime(crime_data['Period'], format='%m/%d/%Y')\n",
    "4\n",
    "bins = [pd.Timestamp('2002-01-01'), pd.Timestamp('2007-12-31'), pd.Timestamp('2012-12-31'), pd.Timestamp('2018-05-13')]\n",
    "5\n",
    "labels = ['Early', 'Middle', 'Late']\n",
    "6\n",
    "crime_data['period'] = pd.cut(crime_data['Period'], bins=bins, labels=labels)\n",
    "1\n",
    "# Select the list of features\n",
    "2\n",
    "features = ['X', 'Y', 'DayOfWeek', 'Time', 'PdDistrict']\n",
    "1\n",
    "# Transfer features to numbers\n",
    "2\n",
    "crime_data = pd.get_dummies(crime_data, columns=['DayOfWeek', 'PdDistrict'])\n",
    "1\n",
    "# Create the model and train it\n",
    "2\n",
    "features = ['X', 'Y', 'DayOfWeek_Friday', 'DayOfWeek_Monday', 'DayOfWeek_Saturday',            'DayOfWeek_Sunday', 'DayOfWeek_Thursday', 'DayOfWeek_Tuesday', 'DayOfWeek_Wednesday',            'PdDistrict_BAYVIEW', 'PdDistrict_CENTRAL', 'PdDistrict_INGLESIDE', 'PdDistrict_MISSION',            'PdDistrict_NORTHERN', 'PdDistrict_PARK', 'PdDistrict_RICHMOND', 'PdDistrict_SOUTHERN',            'PdDistrict_TARAVAL', 'PdDistrict_TENDERLOIN']\n",
    "3\n",
    "kmeans = KMeans(n_clusters=3)\n",
    "4\n",
    "kmeans.fit(crime_data[features])\n",
    "KMeans(n_clusters=3)\n"
   ]
  },
  {
   "cell_type": "code",
   "execution_count": 3,
   "metadata": {},
   "outputs": [],
   "source": [
    "# Load the map data\n",
    "with open(\"sfpd.geojson\") as f:\n",
    "    geo_json_data = json.load(f)"
   ]
  },
  {
   "cell_type": "code",
   "execution_count": 36,
   "metadata": {},
   "outputs": [],
   "source": [
    "# Create the Period column\n",
    "crime_data['Period'] = pd.to_datetime(crime_data['Date']).dt.strftime('%m/%d/%Y')\n",
    "crime_data['Period'] = pd.to_datetime(crime_data['Period'], format='%m/%d/%Y')\n",
    "bins = [pd.Timestamp('2002-01-01'), pd.Timestamp('2007-12-31'), pd.Timestamp('2012-12-31'), pd.Timestamp('2018-05-13')]\n",
    "labels = ['Early', 'Middle', 'Late']\n",
    "crime_data['period'] = pd.cut(crime_data['Period'], bins=bins, labels=labels)"
   ]
  },
  {
   "cell_type": "code",
   "execution_count": 38,
   "metadata": {},
   "outputs": [],
   "source": [
    "# Select the list of features\n",
    "features = ['X', 'Y', 'DayOfWeek', 'Time', 'PdDistrict']"
   ]
  },
  {
   "cell_type": "code",
   "execution_count": 40,
   "metadata": {},
   "outputs": [],
   "source": [
    "# Transfer features to numbers\n",
    "crime_data = pd.get_dummies(crime_data, columns=['DayOfWeek', 'PdDistrict'])"
   ]
  },
  {
   "cell_type": "code",
   "execution_count": 43,
   "metadata": {},
   "outputs": [
    {
     "data": {
      "text/plain": [
       "KMeans(n_clusters=3)"
      ]
     },
     "execution_count": 43,
     "metadata": {},
     "output_type": "execute_result"
    }
   ],
   "source": [
    "# Create the model and train it\n",
    "features = ['X', 'Y', 'DayOfWeek_Friday', 'DayOfWeek_Monday', 'DayOfWeek_Saturday',            'DayOfWeek_Sunday', 'DayOfWeek_Thursday', 'DayOfWeek_Tuesday', 'DayOfWeek_Wednesday',            'PdDistrict_BAYVIEW', 'PdDistrict_CENTRAL', 'PdDistrict_INGLESIDE', 'PdDistrict_MISSION',            'PdDistrict_NORTHERN', 'PdDistrict_PARK', 'PdDistrict_RICHMOND', 'PdDistrict_SOUTHERN',            'PdDistrict_TARAVAL', 'PdDistrict_TENDERLOIN']\n",
    "kmeans = KMeans(n_clusters=3)\n",
    "kmeans.fit(crime_data[features])"
   ]
  },
  {
   "cell_type": "code",
   "execution_count": 1,
   "metadata": {
    "scrolled": true
   },
   "outputs": [
    {
     "ename": "NameError",
     "evalue": "name 'kmeans' is not defined",
     "output_type": "error",
     "traceback": [
      "\u001b[0;31m---------------------------------------------------------------------------\u001b[0m",
      "\u001b[0;31mNameError\u001b[0m                                 Traceback (most recent call last)",
      "\u001b[0;32m/var/folders/w9/94vqs82s3gq0qywpffjb890w0000gn/T/ipykernel_62751/4027498561.py\u001b[0m in \u001b[0;36m<module>\u001b[0;34m\u001b[0m\n\u001b[1;32m      1\u001b[0m \u001b[0;31m# Add the cluster labels\u001b[0m\u001b[0;34m\u001b[0m\u001b[0;34m\u001b[0m\u001b[0m\n\u001b[1;32m      2\u001b[0m \u001b[0;34m\u001b[0m\u001b[0m\n\u001b[0;32m----> 3\u001b[0;31m \u001b[0mcrime_data\u001b[0m\u001b[0;34m[\u001b[0m\u001b[0;34m'cluster'\u001b[0m\u001b[0;34m]\u001b[0m \u001b[0;34m=\u001b[0m \u001b[0mkmeans\u001b[0m\u001b[0;34m.\u001b[0m\u001b[0mpredict\u001b[0m\u001b[0;34m(\u001b[0m\u001b[0mcrime_data\u001b[0m\u001b[0;34m[\u001b[0m\u001b[0mfeatures\u001b[0m\u001b[0;34m]\u001b[0m\u001b[0;34m)\u001b[0m\u001b[0;34m\u001b[0m\u001b[0;34m\u001b[0m\u001b[0m\n\u001b[0m\u001b[1;32m      4\u001b[0m \u001b[0;34m\u001b[0m\u001b[0m\n\u001b[1;32m      5\u001b[0m \u001b[0;31m# Label clusters as early, mid or late gentrification groups\u001b[0m\u001b[0;34m\u001b[0m\u001b[0;34m\u001b[0m\u001b[0m\n",
      "\u001b[0;31mNameError\u001b[0m: name 'kmeans' is not defined"
     ]
    }
   ],
   "source": [
    "# Add the cluster labels\n",
    "\n",
    "crime_data['cluster'] = kmeans.predict(crime_data[features])\n",
    "\n",
    "# Label clusters as early, mid or late gentrification groups\n",
    "early_cluster = crime_data[crime_data['cluster'] == 0]\n",
    "mid_cluster = crime_data[crime_data['cluster'] == 1]\n",
    "late_cluster = crime_data[crime_data['cluster'] == 2]\n",
    "\n",
    "early_crime = early_cluster[early_cluster['period'] == 'Early']\n",
    "mid_crime = mid_cluster[mid_cluster['period'] == 'Middle']\n",
    "late_crime = late_cluster[late_cluster['period'] == 'Late']\n",
    "\n",
    "# Create map\n",
    "comparison_map = folium.Map(location=[37.7749, -122.4194], zoom_start=12)\n",
    "\n",
    "# Add Heatmap\n",
    "HeatMap(data=early_crime[['Y', 'X']], name='Early Period Crime Heatmap', min_opacity=0.2, max_zoom=18, radius=10, blur=15).add_to(comparison_map)\n",
    "HeatMap(data=mid_crime[['Y', 'X']], name='Mid Period Crime Heatmap', min_opacity=0.2, max_zoom=18, radius=10, blur=15).add_to(comparison_map)\n",
    "HeatMap(data=late_crime[['Y', 'X']], name='Late Period Crime Heatmap', min_opacity=0.2, max_zoom=18, radius=10, blur=15).add_to(comparison_map)\n",
    "\n",
    "folium.LayerControl().add_to(comparison_map)\n"
   ]
  },
  {
   "cell_type": "code",
   "execution_count": null,
   "metadata": {},
   "outputs": [],
   "source": [
    "crime_data = pd.read_csv(\"police_data.csv\")\n",
    "# Extract date and time information from Date and Time columns\n",
    "crime_data['Date'] = pd.to_datetime(crime_data['Date'])\n",
    "crime_data['Time'] = pd.to_datetime(crime_data['Time'], format='%H:%M').dt.hour\n",
    "\n",
    "# Filter data for 2010-2017\n",
    "crime_data = crime_data[(crime_data['Date'] >= '2010-01-01') & (crime_data['Date'] < '2018-01-01')]\n",
    "\n",
    "# Group by hour of day and crime category\n",
    "crime_by_hour_category_district = crime_data.groupby(['Time', 'Category', 'PdDistrict']).size().reset_index(name='count')\n",
    "\n",
    "# Normalize crime count by category and hour\n",
    "crime_by_hour_category_district['normalized_count'] = crime_by_hour_category_district.groupby(['Category', 'PdDistrict'])['count'].apply(lambda x: x/x.sum())\n",
    "\n",
    "# Set the list of hours for x-axis\n",
    "hours = [str(i) for i in range(24)]\n",
    "\n",
    "# Get the list of districts for subplots\n",
    "districts = crime_by_hour_category_district['PdDistrict'].unique()\n",
    "\n",
    "# Create a dictionary of sources for each district\n",
    "sources = {}\n",
    "for district in districts:\n",
    "    sources[district] = ColumnDataSource(crime_by_hour_category_district[crime_by_hour_category_district['PdDistrict'] == district])\n",
    "\n",
    "# Create Bokeh subplots for each district\n",
    "plots = []\n",
    "for district in districts:\n",
    "    p = figure(title=district, x_range=FactorRange(factors=hours), plot_width=400, plot_height=300)\n",
    "\n",
    "    # Create a color mapper for each crime category\n",
    "    category_mapper = factor_cmap(field_name='Category', palette=Category10_10, factors=crime_by_hour_category_district['Category'].unique())\n",
    "\n",
    "    # Add vbar for each crime category and hour\n",
    "    bar = p.vbar(x='Time', top='normalized_count', source=sources[district], width=0.9, color=category_mapper, legend_label='Category', muted_alpha=0.2, muted_color=category_mapper)\n",
    "\n",
    "    # Add legend with interactive click policy\n",
    "    p.legend.click_policy=\"mute\"\n",
    "\n",
    "    # Set other figure properties\n",
    "    p.title.text_font_size = '16pt'\n",
    "    p.xaxis.axis_label = 'Hour of Day'\n",
    "    p.yaxis.axis_label = 'Normalized Crime Count'\n",
    "\n",
    "    plots.append(p)\n",
    "\n",
    "# Create a gridplot of subplots\n",
    "grid = gridplot([[plots[0], plots[1]], [plots[2], plots[3]]], plot_width=500, plot_height=400)\n",
    "\n",
    "# Save the plot as an HTML file\n",
    "output_file(\"crime_count_by_district.html\")\n",
    "\n",
    "# Display the plot\n",
    "show(grid)\n"
   ]
  },
  {
   "cell_type": "code",
   "execution_count": null,
   "metadata": {},
   "outputs": [],
   "source": [
    "crime_data = pd.read_csv(\"police_data.csv\")"
   ]
  },
  {
   "cell_type": "code",
   "execution_count": 14,
   "metadata": {},
   "outputs": [
    {
     "name": "stderr",
     "output_type": "stream",
     "text": [
      "WARNING:bokeh.embed.util:\n",
      "You are generating standalone HTML/JS output, but trying to use real Python\n",
      "callbacks (i.e. with on_change or on_event). This combination cannot work.\n",
      "\n",
      "Only JavaScript callbacks may be used with standalone output. For more\n",
      "information on JavaScript callbacks with Bokeh, see:\n",
      "\n",
      "    https://docs.bokeh.org/en/latest/docs/user_guide/interaction/callbacks.html\n",
      "\n",
      "Alternatively, to use real Python callbacks, a Bokeh server application may\n",
      "be used. For more information on building and running Bokeh applications, see:\n",
      "\n",
      "    https://docs.bokeh.org/en/latest/docs/user_guide/server.html\n",
      "\n"
     ]
    }
   ],
   "source": [
    "# read in the crime data\n",
    "\n",
    "# convert Date and Time columns to datetime format\n",
    "crime_data['Date'] = pd.to_datetime(crime_data['Date'], format='%m/%d/%Y')\n",
    "crime_data['Time'] = pd.to_datetime(crime_data['Time'], format='%H:%M')\n",
    "\n",
    "# group the data by district and year\n",
    "district_year_data = crime_data.groupby(['PdDistrict', 'Category', pd.Grouper(key='Date', freq='Y')]).size().reset_index(name='count')\n",
    "\n",
    "# create a dictionary of data sources for each district\n",
    "district_sources = {}\n",
    "for district in district_year_data['PdDistrict'].unique():\n",
    "    district_data = district_year_data[district_year_data['PdDistrict'] == district]\n",
    "    district_sources[district] = ColumnDataSource(district_data)\n",
    "\n",
    "# create a dictionary of plots for each district\n",
    "district_plots = {}\n",
    "for district in district_year_data['PdDistrict'].unique():\n",
    "    district_data = district_year_data[district_year_data['PdDistrict'] == district]\n",
    "    source = district_sources[district]\n",
    "    plot = figure(title=district, x_axis_type='datetime', height=250, width=400, y_range=(0, district_data['count'].max()))\n",
    "    plot.vbar(x='Date', top='count', source=source, width=365*60*60*1000)\n",
    "    district_plots[district] = plot\n",
    "\n",
    "# create a Select widget with options for district and category\n",
    "category_options = list(district_year_data['Category'].unique())\n",
    "category_select = Select(title=\"Category:\", options=category_options, value=category_options[0])\n",
    "\n",
    "# define a callback function to update the plot based on the selected options\n",
    "def update_plot(attr, old, new):\n",
    "    category = category_select.value\n",
    "    new_source = district_sources[district][district_sources[district]['Category'] == category]\n",
    "    district_plots[district].title.text = f\"({category})\"\n",
    "    district_plots[district].y_range.end = new_source.data['count'].max()\n",
    "    district_plots[district].title.text = f\"({category})\"\n",
    "    district_plots[district].title.align = 'center'\n",
    "    district_plots[district].vbar(x='Date', top='count', source=new_source, width=365*60*60*1000)\n",
    "\n",
    "# add the callback function to the Select widgets\n",
    "category_select.on_change('value', update_plot)\n",
    "\n",
    "# create a layout with the gridplot and Select widgets\n",
    "layout = column(category_select, gridplot(list(district_plots.values()), ncols=2))\n",
    "\n",
    "# Save the plot as an HTML file\n",
    "output_file(\"crime_count_by_district.html\")\n",
    "\n",
    "# show the layout\n",
    "show(layout)\n"
   ]
  },
  {
   "cell_type": "markdown",
   "metadata": {},
   "source": [
    "<font color=black size=4>**References**</font>"
   ]
  },
  {
   "cell_type": "markdown",
   "metadata": {},
   "source": [
    "1.\"U.S. recession fuels crime rise, police chiefs say\" https://www.reuters.com/article/us-usa-economy-crime-idUSTRE50Q6FR20090127\n",
    "\n",
    "2.\"SF sees highest crime rate since 2008\": https://www.sfexaminer.com/news/sf-sees-highest-crime-rate-since-2008/article_c705b09e-1eaa-5783-b367-17537458cdd6.html\n",
    "\n",
    "3.\"Central Market Economic Strategy\": https://commissions.sfplanning.org/cpcpackets/CentralMarketEconomicStrategyCPC.pdf"
   ]
  },
  {
   "cell_type": "code",
   "execution_count": null,
   "metadata": {},
   "outputs": [],
   "source": []
  }
 ],
 "metadata": {
  "kernelspec": {
   "display_name": "Python 3 (ipykernel)",
   "language": "python",
   "name": "python3"
  },
  "language_info": {
   "codemirror_mode": {
    "name": "ipython",
    "version": 3
   },
   "file_extension": ".py",
   "mimetype": "text/x-python",
   "name": "python",
   "nbconvert_exporter": "python",
   "pygments_lexer": "ipython3",
   "version": "3.9.13"
  }
 },
 "nbformat": 4,
 "nbformat_minor": 4
}
